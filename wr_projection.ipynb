{
 "cells": [
  {
   "cell_type": "code",
   "execution_count": null,
   "id": "1e409789-8990-45e0-bf75-0babeadabae5",
   "metadata": {},
   "outputs": [],
   "source": [
    "import nfl_data_py as nfl\n",
    "import pandas as pd\n",
    "\n",
    "# Import weekly player stats data from 2009-2023\n",
    "years = list(range(2009, 2023))\n",
    "df = nfl.import_weekly_data(years)\n",
    "\n",
    "df['name'] = df['player_display_name']\n",
    "\n",
    "# Trim dataset for only WRs, then only taking our relevant feature columns and result columns\n",
    "wr_df = df.loc[df['position'] == 'WR']\n",
    "\n",
    "wr_df = wr_df[['player_id', 'name', 'season', 'week', 'receiving_air_yards',\n",
    "               'receiving_yards_after_catch', 'targets', 'receiving_yards', 'receiving_tds',\n",
    "               'pacr', 'receptions', 'receiving_first_downs', 'receiving_epa',\n",
    "               'racr', 'target_share', 'air_yards_share', 'wopr',\n",
    "               'fantasy_points']]\n",
    "\n",
    "# Let's keep a list of our features and target variables\n",
    "features = ['receiving_air_yards', 'receiving_yards_after_catch', 'targets', 'receiving_yards', 'receiving_tds',\n",
    "            'pacr', 'receptions', 'receiving_first_downs', 'receiving_epa',\n",
    "            'racr', 'target_share', 'air_yards_share', 'wopr']\n",
    "\n",
    "target = ['fantasy_points']\n",
    "\n"
   ]
  },
  {
   "cell_type": "code",
   "execution_count": null,
   "id": "b26e7231-a380-4cd2-8448-5aca3a3eba18",
   "metadata": {},
   "outputs": [],
   "source": [
    "# Aggregate DF by player and season, sort\n",
    "\n",
    "wr_df_agg = wr_df.groupby(['name', 'season']).sum().reset_index()\n",
    "\n",
    "wr_df_agg = wr_df_agg.sort_values(by=['name', 'season'])\n",
    "\n",
    "# Shift the fantasy points to be the target for the next season\n",
    "# Drop rows where next_season_fantasy_points is NaN (i.e., the last season for each player)\n",
    "\n",
    "wr_df_agg['next_season_fantasy_points'] = wr_df_agg.groupby('name')['fantasy_points'].shift(-1)\n",
    "\n",
    "wr_df_agg = wr_df_agg.dropna(subset=['next_season_fantasy_points'])"
   ]
  },
  {
   "cell_type": "code",
   "execution_count": null,
   "id": "cb8419dc-8bb0-471f-97d4-f0070378c31a",
   "metadata": {},
   "outputs": [],
   "source": [
    "from sklearn.model_selection import train_test_split\n",
    "\n",
    "# Define features and target\n",
    "features = ['receiving_air_yards', 'receiving_yards_after_catch', 'targets', 'receiving_yards', 'receiving_tds',\n",
    "            'pacr', 'receptions', 'receiving_first_downs', 'receiving_epa',\n",
    "            'racr', 'target_share', 'air_yards_share', 'wopr']\n",
    "\n",
    "X = wr_df_agg[features]\n",
    "y = wr_df_agg['next_season_fantasy_points']\n",
    "\n",
    "# Split into training and testing sets\n",
    "X_train, X_test, y_train, y_test = train_test_split(X, y, test_size=0.5, random_state=42)\n"
   ]
  },
  {
   "cell_type": "code",
   "execution_count": 46,
   "id": "694285ff-060e-4d0e-8b8e-a4e1bf8145e3",
   "metadata": {
    "tags": []
   },
   "outputs": [
    {
     "name": "stdout",
     "output_type": "stream",
     "text": [
      "Mean Absolute Error: 35.162439301255574\n",
      "Mean Squared Error: 2121.6375427446565\n",
      "Root Mean Squared Error: 46.06123687814578\n",
      "R^2 Score: 0.4695763231194695\n"
     ]
    }
   ],
   "source": [
    "# Initialize model, train model\n",
    "model = RandomForestRegressor(random_state=42)\n",
    "\n",
    "model.fit(X_train, y_train)\n",
    "\n",
    "# Make predictions\n",
    "y_pred = model.predict(X_test)\n",
    "\n",
    "# Evaluate the model\n",
    "mae = mean_absolute_error(y_test, y_pred)\n",
    "mse = mean_squared_error(y_test, y_pred)\n",
    "rmse = mse ** 0.5\n",
    "r2 = r2_score(y_test, y_pred)\n",
    "\n",
    "print(f\"Mean Absolute Error: {mae}\")\n",
    "print(f\"Mean Squared Error: {mse}\")\n",
    "print(f\"Root Mean Squared Error: {rmse}\")\n",
    "print(f\"R^2 Score: {r2}\")"
   ]
  },
  {
   "cell_type": "code",
   "execution_count": null,
   "id": "44f99705-6040-41ba-902f-6fe6f1d74b13",
   "metadata": {},
   "outputs": [],
   "source": []
  }
 ],
 "metadata": {
  "kernelspec": {
   "display_name": "Python 3 (ipykernel)",
   "language": "python",
   "name": "python3"
  },
  "language_info": {
   "codemirror_mode": {
    "name": "ipython",
    "version": 3
   },
   "file_extension": ".py",
   "mimetype": "text/x-python",
   "name": "python",
   "nbconvert_exporter": "python",
   "pygments_lexer": "ipython3",
   "version": "3.11.5"
  }
 },
 "nbformat": 4,
 "nbformat_minor": 5
}
